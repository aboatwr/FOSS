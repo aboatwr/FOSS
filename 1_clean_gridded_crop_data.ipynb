{
 "cells": [
  {
   "cell_type": "markdown",
   "id": "b1388d7a",
   "metadata": {},
   "source": [
    "## This file converts agricultural gridded data from tiff to netcdf \n",
    " last updated by Abbie Boatwright 10/28/22"
   ]
  },
  {
   "cell_type": "code",
   "execution_count": 2,
   "id": "2b7db065",
   "metadata": {},
   "outputs": [],
   "source": [
    "from osgeo import gdal\n",
    "import os\n",
    "os.chdir('/Users/Abbie/Dropbox/tree_lab_collab/data/raw')\n",
    "#Change the following variables to the file you want to convert (inputfile) and\n",
    "#what you want to name your output file (outputfile).\n",
    "inputfile = 'gl-croplands-geotif/cropland.tif'\n",
    "outputfile = 'gl-croplands-geotif/cropland.nc'\n",
    "#Do not change this line, the following command will convert the geoTIFF to a netCDF\n",
    "ds = gdal.Translate(outputfile, inputfile, format='NetCDF')"
   ]
  },
  {
   "cell_type": "markdown",
   "id": "f5dd801e",
   "metadata": {},
   "source": [
    "data link: https://sedac.ciesin.columbia.edu/data/set/aglands-croplands-2000/data-download"
   ]
  }
 ],
 "metadata": {
  "kernelspec": {
   "display_name": "grid_env",
   "language": "python",
   "name": "grid_env"
  },
  "language_info": {
   "codemirror_mode": {
    "name": "ipython",
    "version": 3
   },
   "file_extension": ".py",
   "mimetype": "text/x-python",
   "name": "python",
   "nbconvert_exporter": "python",
   "pygments_lexer": "ipython3",
   "version": "3.10.6"
  }
 },
 "nbformat": 4,
 "nbformat_minor": 5
}
